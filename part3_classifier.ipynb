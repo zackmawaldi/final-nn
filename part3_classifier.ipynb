{
 "cells": [
  {
   "cell_type": "code",
   "execution_count": 1,
   "metadata": {},
   "outputs": [],
   "source": [
    "from nn import io\n",
    "\n",
    "rap1_positives = io.read_text_file('./data/rap1-lieb-positives.txt')\n",
    "\n"
   ]
  },
  {
   "cell_type": "code",
   "execution_count": 6,
   "metadata": {},
   "outputs": [
    {
     "name": "stdout",
     "output_type": "stream",
     "text": [
      "['ACATCCGTGCACCTCCG', 'ACACCCAGACATCGGGC', 'CCACCCGTACCCATGAC', 'GCACCCATACATTACAT', 'ACATCCATACACCCTCT', 'ACACCCTTACACTTTTA', 'GCATCCGTGCCTCCCAC', 'AAACCCATGCACAGTGA', 'ACATCCGTGCACCATTT', 'ACACCCATACATACGGA', 'ACACCCACACCCCGGGC', 'ACCTCCGTACACCAATC', 'ACACCCATACATGTTGA', 'TGACCCATACATTTCCT', 'ACATCCGTACATCAGAA', 'AAACCCATACATATCTT', 'TCACCCAGTCATCCAAC', 'AGACCCACACACCGCAT', 'TAGCCCATACACCGCAG', 'ACACCCACACCCCTCAT', 'ACACCCACGCCCCGCAA', 'GAACCCACACCTCTCAC', 'GCACCCACACATCGCAT', 'AAATCCGTGCACCGCAT', 'AAACCCATGCACCTCCA', 'ACACCCATTCACCGCAC', 'ACATCCGTGCACTGTGG', 'ACATCCATACATTCGGT', 'ACACCCATACATTTATA', 'ACACCCAGACACCTCAA', 'GCACCCGTACCCCACAA', 'ACATCCGAACACCAAAT', 'ACACCCATACCTCTCAG', 'GCACCCGCACACCGCAG', 'ACACCCACACATTTACA', 'AAACCCATACAATATAT', 'ACATCCGTACACTTTTG', 'CCGCCCATACACCCCAT', 'GCACCCACACACCGGAC', 'ACACCCAAACATTAGGG', 'CCATCCATACATTTTGG', 'GCACCCATGCACCTCAC', 'GAACCCATTCACCACAT', 'CCATCCATACATGTTCA', 'ACACCCACACATATCTA', 'AAATCCGTACCTTTCCT', 'GAACCCACACACCACAC', 'AGACCCATACACCCGCT', 'GCATCCATACACCCACC', 'GCACCCGTGCATCATAC', 'CCGCCCATACACCGCAC', 'TCACCCAGACACCTACG', 'TAACCCGTACATGCCCA', 'AAACCCAAACATATTAA', 'GCACCCAAACACCTGCA', 'AGATCCGTACATATCTC', 'ACACCCAAACATATCTA', 'ACACCCATACACACCAA', 'AGACCCATACATCATGA', 'TGACCCATACCCACCGA', 'GAACCCATACATTATTT', 'GCACCCACACATTCTAA', 'GCACCCAGACCATACGT', 'GCACCCACACATTACCG', 'GCACCCACACCTCGCAT', 'ACACCCATACCCCATAA', 'ACATCCATACATCTCCA', 'ACACCCGTACACTTTAT', 'AAATCCAGACACTTCCT', 'GCGCCCATACATCACAT', 'ACATCCACACCTCACTA', 'ACATCCTTGCACCACAC', 'CCACCCATGCACCGCAC', 'CCATCCATACATCCTTT', 'TAACCCATACATATCAT', 'ACATCCTCACACCACTA', 'GCACCCATGCATCCACT', 'ACACCCACACACGACTC', 'AACTCCGTGCACCACAC', 'GCACCCATACCCAGAGT', 'ACATCCGTACATTTAGT', 'ACACCCGCACACCACAA', 'AGATCCGTACATCTTAG', 'ACACCCAAACATTCATT', 'ACATCCATACATTTATG', 'ACCTCCGTGCATCCTGT', 'ACACCCACGCATCTCAT', 'GCATCCGTGCCTCCTGG', 'ACATCCGAACATTTCAC', 'GGACCCATGCACCACAT', 'GCACCCAGTCACCGCCC', 'GAACCCATGCACCACAC', 'AAACCCAGACATCCCAT', 'ACATCCGTGCATTACAT', 'ACATCCATACATTTTTT', 'AAATCCGTACACACTAC', 'GCGTCCGTACACTGTCC', 'GCACCCATACATTATAA', 'GCACCCATACATTTATA', 'ACACCCGTACATTTCAC', 'GAACCCAAACATTATAG', 'ACATCCATACCTTTCCT', 'GAACCCATTCATCCAAT', 'TAATCCGTACACCGCGC', 'ACGCCCAGACATAACAT', 'GCACCCGCGCCTTCCTC', 'CCACCCGAACACCTCAC', 'ACACCCATGCATTATTG', 'ACACCCGTACATATTAA', 'CCACCCGTACACCTCCC', 'AAACCCGGACATTCCAT', 'AAACCCATACACAATGA', 'ACACCCAAACATATGAT', 'ACACCCAGTCATCCGGC', 'GAACCCATACCCCATTT', 'ACACCCATACAAACCCA', 'ACACCCATTCATCACGT', 'ACATCCGTACCTTTCCA', 'CCATCCATACCTTAGCA', 'ACACCCATGCATCATTC', 'GAACCCATACATTTCAA', 'ACATCCGTACATTCGAG', 'GAATCCACACACCGCAT', 'ACACCCTTACACTTCCT', 'AAACCCATACACCATTT', 'AAACCCATGCATCGGTT', 'AAATCCGTACATTTCTG', 'AAACCCAAACACCACAT', 'TCACCCGTACATCCACG', 'CCACCCACGCATCCAAA', 'GAATCCGTACATTTAGA', 'ACACCCAAGCACAGCAT', 'GAATCCTTACATCACAC', 'ACACCCATACCTTTAGG', 'AGACCCATACATCACAA', 'TAACCCATACACCTCAT', 'ACACCCATACACCAAAC']\n",
      "137\n"
     ]
    }
   ],
   "source": [
    "print(rap1_positives)\n",
    "print(len(rap1_positives))"
   ]
  },
  {
   "cell_type": "code",
   "execution_count": 9,
   "metadata": {},
   "outputs": [
    {
     "name": "stdout",
     "output_type": "stream",
     "text": [
      "{17}\n"
     ]
    }
   ],
   "source": [
    "# variance bewteen seq lengths:\n",
    "\n",
    "print(set([len(seq) for seq in rap1_positives]))"
   ]
  },
  {
   "cell_type": "code",
   "execution_count": 3,
   "metadata": {},
   "outputs": [],
   "source": [
    "rap1_negatives = io.read_fasta_file('./data/yeast-upstream-1k-negative.fa')"
   ]
  },
  {
   "cell_type": "code",
   "execution_count": 8,
   "metadata": {},
   "outputs": [
    {
     "name": "stdout",
     "output_type": "stream",
     "text": [
      "CCAATTTGTCACCAGCTTCAGAAATGGTGTTCTTCAAAGAGTAAGCAATGGATTCCAATTGGTTCTTGGAAGCAATTCTTTGAGATTCCTTTTCATCTTCTTCCTTGAATTTTTCGGCTTCAGCAACCATCTTTTCGATATCTTCCTTGGACAATCTACCCTTGTCGTTGGTAATAGTGATCTTGTTAGACTTACCAGTACCCTTTTCGACGGCGGAAACATTCAAAATACCGTTAGAGTCGACATCGAAAGTGACTTCAATTTGTGGGACACCTCTTGGAGCTGGTGGAATACCACTCAATTCGAACTTACCCAACAAGTTGTTGTCCTTAGTCTTGGCTCTTTCACCTTCAAAGACTTGAATCAAGACACCTGGTTGGTTATCAGCATAAGTGGAAAAGATCTCGAACTTCTTTGTTGAAATGGTAGAGTTTCTTGGAATCAACTTGGTCATGACACCACCAGCAGTTTCAATACCCAAGGATAATGGAGCGACATCCAACAACAATAGATCTTGAGTCTTGGAAGATTCGTCACCAGTCAAAATAGCAGCTTGAACAGCAGCACCGTAAGCAACAGCTTCATCTGGGTTGATAGATCTGTTTGGTTCCTTACCGTTGAAGTAGTCAGTGACCAATTTTTGGACCTTTGGAATTCTGGTAGAACCACCGACCAAGACAATTTCATCGACTTGAGATTTGTCCAATTTAGCATCTCTCAAGACCTTTTCAACTGGGTCCAAAGTAGATCTGAACAAGTCAGCACACAATTCTTCGAATCTGGCTCTGGTGATGGAAGTGTAGAAATCGATACCTTCGAACAAAGAGTCAATTTCAACGGAAGTTTGAGCGGAGGAAGACAAAGTTCTCTTGGCTCTTTCACAAGCGGTTCTTAATCTTCTCAAAGCTCTTTGGTTGGTAGACAAGTCCTTCTTGTTCTTTCTCTTGAATTCTTGGATGAAGTGGTTGACCAATCTGTTGTCAAAATCTTCACCACCCAA\n",
      "3163\n"
     ]
    }
   ],
   "source": [
    "print(rap1_negatives[1])\n",
    "print(len(rap1_negatives))"
   ]
  },
  {
   "cell_type": "code",
   "execution_count": 10,
   "metadata": {},
   "outputs": [
    {
     "name": "stdout",
     "output_type": "stream",
     "text": [
      "{1000, 490, 334, 52, 629, 792}\n"
     ]
    }
   ],
   "source": [
    "print(set([len(seq) for seq in rap1_negatives]))"
   ]
  },
  {
   "cell_type": "code",
   "execution_count": 21,
   "metadata": {},
   "outputs": [],
   "source": [
    "# split negative sequences into size 17 (matching negative)\n",
    "\n",
    "rap1_negatives_split = []\n",
    "for seq in rap1_negatives:\n",
    "    for i in range(0, len(seq), 17):\n",
    "        rap1_negatives_split.append(seq[i:i+17])\n",
    "\n",
    "rap1_negatives_split = [s for s in rap1_negatives_split if len(s) == 17]"
   ]
  },
  {
   "cell_type": "code",
   "execution_count": 16,
   "metadata": {},
   "outputs": [
    {
     "name": "stdout",
     "output_type": "stream",
     "text": [
      "{17}\n"
     ]
    }
   ],
   "source": [
    "print(set([len(seq) for seq in rap1_negatives_split]))"
   ]
  },
  {
   "cell_type": "code",
   "execution_count": 22,
   "metadata": {},
   "outputs": [
    {
     "data": {
      "text/plain": [
       "183297"
      ]
     },
     "execution_count": 22,
     "metadata": {},
     "output_type": "execute_result"
    }
   ],
   "source": [
    "len(rap1_negatives_split)"
   ]
  },
  {
   "cell_type": "code",
   "execution_count": 36,
   "metadata": {},
   "outputs": [],
   "source": [
    "# upsample data\n",
    "\n",
    "from nn import preprocess\n",
    "\n",
    "X , y = preprocess.sample_seqs( rap1_positives + rap1_negatives_split ,\n",
    "                                [1]*len(rap1_positives) + [0]*len(rap1_negatives_split))"
   ]
  },
  {
   "cell_type": "code",
   "execution_count": 38,
   "metadata": {},
   "outputs": [],
   "source": [
    "# convert to one hot\n",
    "\n",
    "for idx, seq in enumerate(X):\n",
    "    X[idx] = preprocess.one_hot_encode_seqs(seq)"
   ]
  },
  {
   "cell_type": "code",
   "execution_count": 39,
   "metadata": {},
   "outputs": [
    {
     "data": {
      "text/plain": [
       "array([0, 0, 1, 0, 1, 0, 0, 0, 0, 0, 1, 0, 0, 1, 0, 0, 0, 0, 0, 1, 0, 0,\n",
       "       0, 1, 1, 0, 0, 0, 1, 0, 0, 0, 0, 0, 1, 0, 0, 0, 0, 1, 0, 0, 0, 1,\n",
       "       0, 1, 0, 0, 0, 0, 0, 1, 1, 0, 0, 0, 0, 1, 0, 0, 0, 0, 0, 1, 0, 1,\n",
       "       0, 0])"
      ]
     },
     "execution_count": 39,
     "metadata": {},
     "output_type": "execute_result"
    }
   ],
   "source": [
    "X[0]"
   ]
  },
  {
   "cell_type": "code",
   "execution_count": 41,
   "metadata": {},
   "outputs": [
    {
     "name": "stdout",
     "output_type": "stream",
     "text": [
      "{68}\n",
      "68\n"
     ]
    }
   ],
   "source": [
    "print(set([len(seq_one_hot) for seq_one_hot in X]))\n",
    "\n",
    "print( 17 * 4 )"
   ]
  },
  {
   "cell_type": "code",
   "execution_count": 50,
   "metadata": {},
   "outputs": [],
   "source": [
    "from sklearn.model_selection import train_test_split\n",
    "import numpy as np\n",
    "\n",
    "X_train, X_val, y_train, y_val = train_test_split(X, y, test_size=0.2, random_state=42)\n",
    "\n",
    "# cast to np arrays, transpose to match nn (feature, batch) code\n",
    "X_train, X_val, y_train, y_val = np.array(X_train).T, np.array(X_val).T, np.array(y_train), np.array(y_val)"
   ]
  },
  {
   "cell_type": "code",
   "execution_count": 51,
   "metadata": {},
   "outputs": [
    {
     "name": "stdout",
     "output_type": "stream",
     "text": [
      "(68, 293275)\n",
      "(68, 73319)\n",
      "(293275,)\n",
      "(73319,)\n"
     ]
    }
   ],
   "source": [
    "for i in (X_train, X_val, y_train, y_val):\n",
    "    print(i.shape)"
   ]
  },
  {
   "cell_type": "code",
   "execution_count": 70,
   "metadata": {},
   "outputs": [
    {
     "name": "stdout",
     "output_type": "stream",
     "text": [
      "Epoch 1  \tTraining Loss: 0.7208151436654644\tValidation Loss: 0.7047028373108098\n",
      "Epoch 2  \tTraining Loss: 0.704338226875035\tValidation Loss: 0.6900106359841279\n",
      "Epoch 3  \tTraining Loss: 0.6896564116288653\tValidation Loss: 0.6766193829452353\n",
      "Epoch 4  \tTraining Loss: 0.6762747937880869\tValidation Loss: 0.6641916756722188\n",
      "Epoch 5  \tTraining Loss: 0.6638548541243003\tValidation Loss: 0.6523699203586402\n",
      "Epoch 6  \tTraining Loss: 0.6520403566825739\tValidation Loss: 0.6409086517939695\n",
      "Epoch 7  \tTraining Loss: 0.6405846837687382\tValidation Loss: 0.6296659524141586\n",
      "Epoch 8  \tTraining Loss: 0.6293466615410892\tValidation Loss: 0.6185489229225016\n",
      "Epoch 9  \tTraining Loss: 0.6182345345497928\tValidation Loss: 0.6074978743949059\n",
      "Epoch 10  \tTraining Loss: 0.6071885409229761\tValidation Loss: 0.5963520414417649\n",
      "Epoch 11  \tTraining Loss: 0.5960468575384814\tValidation Loss: 0.5850490409154075\n",
      "Epoch 12  \tTraining Loss: 0.5847472838771488\tValidation Loss: 0.5735951488873449\n",
      "Epoch 13  \tTraining Loss: 0.5732980928905547\tValidation Loss: 0.5619753087270853\n",
      "Epoch 14  \tTraining Loss: 0.5616837725722785\tValidation Loss: 0.5501399723179722\n",
      "Epoch 15  \tTraining Loss: 0.5498554265245019\tValidation Loss: 0.5380677675777935\n",
      "Epoch 16  \tTraining Loss: 0.5377893465425645\tValidation Loss: 0.525756580286553\n",
      "Epoch 17  \tTraining Loss: 0.525483978266503\tValidation Loss: 0.5131938524261022\n",
      "Epoch 18  \tTraining Loss: 0.5129285162075558\tValidation Loss: 0.5004190735581915\n",
      "Epoch 19  \tTraining Loss: 0.5001625674274892\tValidation Loss: 0.4874239508599366\n",
      "Epoch 20  \tTraining Loss: 0.4871769267210393\tValidation Loss: 0.4742353332403805\n",
      "Epoch 21  \tTraining Loss: 0.4739980929720671\tValidation Loss: 0.460870312619397\n",
      "Epoch 22  \tTraining Loss: 0.46064430084400754\tValidation Loss: 0.4473566530098099\n",
      "Epoch 23  \tTraining Loss: 0.4471424145591752\tValidation Loss: 0.43371162054663176\n",
      "Epoch 24  \tTraining Loss: 0.4335086309753612\tValidation Loss: 0.41998618066617216\n",
      "Epoch 25  \tTraining Loss: 0.4197943978493361\tValidation Loss: 0.4062221621544774\n",
      "Epoch 26  \tTraining Loss: 0.4060404927959732\tValidation Loss: 0.39247857756220034\n",
      "Epoch 27  \tTraining Loss: 0.3923064783341174\tValidation Loss: 0.3787840851885685\n",
      "Epoch 28  \tTraining Loss: 0.37862193828954105\tValidation Loss: 0.365190313453557\n",
      "Epoch 29  \tTraining Loss: 0.36503978501547846\tValidation Loss: 0.351726312239451\n",
      "Epoch 30  \tTraining Loss: 0.3515894077101688\tValidation Loss: 0.3384595913483508\n",
      "Epoch 31  \tTraining Loss: 0.3383368951582219\tValidation Loss: 0.3254338793447556\n",
      "Epoch 32  \tTraining Loss: 0.3253246719496476\tValidation Loss: 0.31266818612674235\n",
      "Epoch 33  \tTraining Loss: 0.3125720257207306\tValidation Loss: 0.30019288217840195\n",
      "Epoch 34  \tTraining Loss: 0.30010848419253416\tValidation Loss: 0.2880690975984858\n",
      "Epoch 35  \tTraining Loss: 0.2879955948718011\tValidation Loss: 0.27630274305420455\n",
      "Epoch 36  \tTraining Loss: 0.2762388520001392\tValidation Loss: 0.26492116463085436\n",
      "Epoch 37  \tTraining Loss: 0.26486690990168515\tValidation Loss: 0.25393854606075517\n",
      "Epoch 38  \tTraining Loss: 0.2538926941192072\tValidation Loss: 0.2433751371317339\n",
      "Epoch 39  \tTraining Loss: 0.24333708927450562\tValidation Loss: 0.2332373868008817\n",
      "Epoch 40  \tTraining Loss: 0.2332064350480753\tValidation Loss: 0.22352406436735994\n",
      "Epoch 41  \tTraining Loss: 0.2235003120532977\tValidation Loss: 0.21423620989006717\n",
      "Epoch 42  \tTraining Loss: 0.21421887594515987\tValidation Loss: 0.20537645266276228\n",
      "Epoch 43  \tTraining Loss: 0.2053655563750339\tValidation Loss: 0.1969331870311165\n",
      "Epoch 44  \tTraining Loss: 0.19692845565110126\tValidation Loss: 0.18889694987921876\n",
      "Epoch 45  \tTraining Loss: 0.18889806447571733\tValidation Loss: 0.1812539892249985\n",
      "Epoch 46  \tTraining Loss: 0.18126046572090884\tValidation Loss: 0.17398918089027923\n",
      "Epoch 47  \tTraining Loss: 0.17400031807489222\tValidation Loss: 0.1670895016910544\n",
      "Epoch 48  \tTraining Loss: 0.16710448404208758\tValidation Loss: 0.16054038630486384\n",
      "Epoch 49  \tTraining Loss: 0.16055874652981386\tValidation Loss: 0.1543245585990278\n",
      "Epoch 50  \tTraining Loss: 0.15434568785734798\tValidation Loss: 0.14843326875007853\n",
      "Epoch 51  \tTraining Loss: 0.14845628101150932\tValidation Loss: 0.14285000635173714\n",
      "Epoch 52  \tTraining Loss: 0.14287437065983447\tValidation Loss: 0.1375567061681276\n",
      "Epoch 53  \tTraining Loss: 0.13758190864678432\tValidation Loss: 0.13253785582272667\n",
      "Epoch 54  \tTraining Loss: 0.13256339544128998\tValidation Loss: 0.12778263594343378\n",
      "Epoch 55  \tTraining Loss: 0.1278078848819384\tValidation Loss: 0.12327539492871116\n",
      "Epoch 56  \tTraining Loss: 0.1233000310764547\tValidation Loss: 0.11900094429628626\n",
      "Epoch 57  \tTraining Loss: 0.11902484394283207\tValidation Loss: 0.11494436707928155\n",
      "Epoch 58  \tTraining Loss: 0.11496745671894334\tValidation Loss: 0.11109549601851197\n",
      "Epoch 59  \tTraining Loss: 0.11111751705700111\tValidation Loss: 0.10744185518161498\n",
      "Epoch 60  \tTraining Loss: 0.10746249336902608\tValidation Loss: 0.1039714831349528\n",
      "Epoch 61  \tTraining Loss: 0.10399043218204403\tValidation Loss: 0.10067518009943036\n",
      "Epoch 62  \tTraining Loss: 0.10069243926165677\tValidation Loss: 0.09754136010430582\n",
      "Epoch 63  \tTraining Loss: 0.09755686334603447\tValidation Loss: 0.0945609706850498\n",
      "Epoch 64  \tTraining Loss: 0.09457465750514549\tValidation Loss: 0.09172607308775206\n",
      "Epoch 65  \tTraining Loss: 0.09173777137131925\tValidation Loss: 0.08902760350368956\n",
      "Epoch 66  \tTraining Loss: 0.0890373758537199\tValidation Loss: 0.08645704648496423\n",
      "Epoch 67  \tTraining Loss: 0.08646496285445446\tValidation Loss: 0.08400663095199436\n",
      "Epoch 68  \tTraining Loss: 0.08401263326441495\tValidation Loss: 0.08166975642019038\n",
      "Epoch 69  \tTraining Loss: 0.08167385496201802\tValidation Loss: 0.0794403364495596\n",
      "Epoch 70  \tTraining Loss: 0.07944248552717326\tValidation Loss: 0.07731272976909832\n",
      "Epoch 71  \tTraining Loss: 0.07731295462689938\tValidation Loss: 0.07528056112327981\n",
      "Epoch 72  \tTraining Loss: 0.07527889631086906\tValidation Loss: 0.07333800290698962\n",
      "Epoch 73  \tTraining Loss: 0.07333450597010463\tValidation Loss: 0.07148002228831167\n",
      "Epoch 74  \tTraining Loss: 0.07147473508509711\tValidation Loss: 0.06970206237930329\n",
      "Epoch 75  \tTraining Loss: 0.06969511130718449\tValidation Loss: 0.06799942473747642\n",
      "Epoch 76  \tTraining Loss: 0.06799093141453705\tValidation Loss: 0.06636748526662484\n",
      "Epoch 77  \tTraining Loss: 0.06635738865144968\tValidation Loss: 0.06480304270228233\n",
      "Epoch 78  \tTraining Loss: 0.06479141568918864\tValidation Loss: 0.06330303178505413\n",
      "Epoch 79  \tTraining Loss: 0.06328998235550963\tValidation Loss: 0.061863848425623716\n",
      "Epoch 80  \tTraining Loss: 0.061849371859859135\tValidation Loss: 0.06048233756871675\n",
      "Epoch 81  \tTraining Loss: 0.06046646872238193\tValidation Loss: 0.059155366976785445\n",
      "Epoch 82  \tTraining Loss: 0.05913816590773139\tValidation Loss: 0.05787969758041505\n",
      "Epoch 83  \tTraining Loss: 0.05786120770039167\tValidation Loss: 0.05665282806855399\n",
      "Epoch 84  \tTraining Loss: 0.05663305158760419\tValidation Loss: 0.05547225369690316\n",
      "Epoch 85  \tTraining Loss: 0.05545113691183272\tValidation Loss: 0.0543358867533383\n",
      "Epoch 86  \tTraining Loss: 0.05431342634447632\tValidation Loss: 0.05324113083969057\n",
      "Epoch 87  \tTraining Loss: 0.053217377090283936\tValidation Loss: 0.052185914860238256\n",
      "Epoch 88  \tTraining Loss: 0.052160868025558214\tValidation Loss: 0.05116902101191229\n",
      "Epoch 89  \tTraining Loss: 0.05114270942330622\tValidation Loss: 0.05018807070838412\n",
      "Epoch 90  \tTraining Loss: 0.050160505496120486\tValidation Loss: 0.04924142393050942\n",
      "Epoch 91  \tTraining Loss: 0.04921267874017406\tValidation Loss: 0.048327396468541645\n",
      "Epoch 92  \tTraining Loss: 0.04829749393540992\tValidation Loss: 0.04744462525590858\n",
      "Epoch 93  \tTraining Loss: 0.04741361876040554\tValidation Loss: 0.046591352928393955\n",
      "Epoch 94  \tTraining Loss: 0.04655935816307726\tValidation Loss: 0.04576651761959482\n",
      "Epoch 95  \tTraining Loss: 0.04573364330863893\tValidation Loss: 0.04496877621436542\n",
      "Epoch 96  \tTraining Loss: 0.044935040104572735\tValidation Loss: 0.04419713896448079\n",
      "Epoch 97  \tTraining Loss: 0.044162548687134116\tValidation Loss: 0.04345042165702265\n",
      "Epoch 98  \tTraining Loss: 0.043415008123605894\tValidation Loss: 0.042727485648245106\n",
      "Epoch 99  \tTraining Loss: 0.04269129718053669\tValidation Loss: 0.04202707630367814\n",
      "Epoch 100  \tTraining Loss: 0.04199011954228447\tValidation Loss: 0.041348091879555834\n",
      "Epoch 101  \tTraining Loss: 0.041310442690883235\tValidation Loss: 0.04068965089953768\n",
      "Epoch 102  \tTraining Loss: 0.04065134209522299\tValidation Loss: 0.040051085514031894\n",
      "Epoch 103  \tTraining Loss: 0.040012082316320634\tValidation Loss: 0.0394314768142911\n",
      "Epoch 104  \tTraining Loss: 0.03939179474437906\tValidation Loss: 0.03883011919017092\n",
      "Epoch 105  \tTraining Loss: 0.03878976610868018\tValidation Loss: 0.038246238810906656\n",
      "Epoch 106  \tTraining Loss: 0.038205220463178674\tValidation Loss: 0.037679021642565556\n",
      "Epoch 107  \tTraining Loss: 0.03763735827858085\tValidation Loss: 0.03712780496521314\n",
      "Epoch 108  \tTraining Loss: 0.037085525602452867\tValidation Loss: 0.03659217815638853\n",
      "Epoch 109  \tTraining Loss: 0.03654931767603503\tValidation Loss: 0.036071803835128875\n",
      "Epoch 110  \tTraining Loss: 0.03602840528315026\tValidation Loss: 0.035566249103125405\n",
      "Epoch 111  \tTraining Loss: 0.03552230668962187\tValidation Loss: 0.035074296058140386\n",
      "Epoch 112  \tTraining Loss: 0.0350298530512827\tValidation Loss: 0.03459560261868113\n",
      "Epoch 113  \tTraining Loss: 0.03455069360100113\tValidation Loss: 0.03412993100966101\n",
      "Epoch 114  \tTraining Loss: 0.034084573959129186\tValidation Loss: 0.033676664332315434\n",
      "Epoch 115  \tTraining Loss: 0.033630871981733014\tValidation Loss: 0.03323508524331298\n",
      "Epoch 116  \tTraining Loss: 0.033188872467786054\tValidation Loss: 0.03280478302183223\n",
      "Epoch 117  \tTraining Loss: 0.03275820213438702\tValidation Loss: 0.03238540797419323\n",
      "Epoch 118  \tTraining Loss: 0.032338454241849585\tValidation Loss: 0.0319765767291989\n",
      "Epoch 119  \tTraining Loss: 0.0319292356663041\tValidation Loss: 0.03157790867202139\n",
      "Epoch 120  \tTraining Loss: 0.03153016332211902\tValidation Loss: 0.03118904194018406\n",
      "Epoch 121  \tTraining Loss: 0.031140907356890565\tValidation Loss: 0.03080954834629837\n",
      "Epoch 122  \tTraining Loss: 0.030761041942352598\tValidation Loss: 0.030439103779929737\n",
      "Epoch 123  \tTraining Loss: 0.03039024191559438\tValidation Loss: 0.030077502595034052\n",
      "Epoch 124  \tTraining Loss: 0.03002831946287829\tValidation Loss: 0.029724431243934892\n",
      "Epoch 125  \tTraining Loss: 0.029674946451347023\tValidation Loss: 0.029379769345889404\n",
      "Epoch 126  \tTraining Loss: 0.029329969749068183\tValidation Loss: 0.02904310886513848\n",
      "Epoch 127  \tTraining Loss: 0.028993024710588382\tValidation Loss: 0.028714218530953916\n",
      "Epoch 128  \tTraining Loss: 0.028663877244357018\tValidation Loss: 0.028392786613257087\n",
      "Epoch 129  \tTraining Loss: 0.02834220983367851\tValidation Loss: 0.028078597494791586\n",
      "Epoch 130  \tTraining Loss: 0.02802778762564299\tValidation Loss: 0.027771502313552722\n",
      "Epoch 131  \tTraining Loss: 0.02772048492892661\tValidation Loss: 0.027471157160035783\n",
      "Epoch 132  \tTraining Loss: 0.027419949685524424\tValidation Loss: 0.027177365010931594\n",
      "Epoch 133  \tTraining Loss: 0.02712598363835225\tValidation Loss: 0.026889867777565912\n",
      "Epoch 134  \tTraining Loss: 0.026838333877141594\tValidation Loss: 0.026608462747362047\n",
      "Epoch 135  \tTraining Loss: 0.02655680047009227\tValidation Loss: 0.026332999040821384\n",
      "Epoch 136  \tTraining Loss: 0.026281223572605802\tValidation Loss: 0.026063281995570627\n",
      "Epoch 137  \tTraining Loss: 0.026011397698587114\tValidation Loss: 0.02579914600068094\n",
      "Epoch 138  \tTraining Loss: 0.02574716979409477\tValidation Loss: 0.02554042675668501\n",
      "Epoch 139  \tTraining Loss: 0.025488376500576938\tValidation Loss: 0.02528701085391848\n",
      "Epoch 140  \tTraining Loss: 0.025234876795630485\tValidation Loss: 0.02503872057090682\n",
      "Epoch 141  \tTraining Loss: 0.02498650168779099\tValidation Loss: 0.024795443823964303\n",
      "Epoch 142  \tTraining Loss: 0.024743140503746316\tValidation Loss: 0.024556957481400226\n",
      "Epoch 143  \tTraining Loss: 0.02450457872672497\tValidation Loss: 0.02432320650869314\n",
      "Epoch 144  \tTraining Loss: 0.024270758629862083\tValidation Loss: 0.02409406155393719\n",
      "Epoch 145  \tTraining Loss: 0.02404154929893631\tValidation Loss: 0.023869318531568227\n",
      "Epoch 146  \tTraining Loss: 0.023816751450272147\tValidation Loss: 0.023648849242253887\n",
      "Epoch 147  \tTraining Loss: 0.023596243476018228\tValidation Loss: 0.023432560904287265\n",
      "Epoch 148  \tTraining Loss: 0.02337994652612644\tValidation Loss: 0.02322033244897313\n",
      "Epoch 149  \tTraining Loss: 0.023167712917129282\tValidation Loss: 0.023012054731244676\n",
      "Epoch 150  \tTraining Loss: 0.0229594422449416\tValidation Loss: 0.02280758787332943\n",
      "Epoch 151  \tTraining Loss: 0.022755003330231387\tValidation Loss: 0.022606888988493105\n",
      "Epoch 152  \tTraining Loss: 0.022554347516720672\tValidation Loss: 0.022409940157406924\n",
      "Epoch 153  \tTraining Loss: 0.022357442399978295\tValidation Loss: 0.022216664206615784\n",
      "Epoch 154  \tTraining Loss: 0.0221642341707861\tValidation Loss: 0.02202680754302936\n",
      "Epoch 155  \tTraining Loss: 0.021974458825610253\tValidation Loss: 0.021840330098317772\n",
      "Epoch 156  \tTraining Loss: 0.02178806535094187\tValidation Loss: 0.021657176843841545\n",
      "Epoch 157  \tTraining Loss: 0.021605004997003303\tValidation Loss: 0.02147718497756696\n",
      "Epoch 158  \tTraining Loss: 0.021425128965256727\tValidation Loss: 0.02130026063919145\n",
      "Epoch 159  \tTraining Loss: 0.021248349036869833\tValidation Loss: 0.02112634837854189\n",
      "Epoch 160  \tTraining Loss: 0.021074594889018586\tValidation Loss: 0.02095544369988777\n",
      "Epoch 161  \tTraining Loss: 0.020903842970404686\tValidation Loss: 0.020787444608621267\n",
      "Epoch 162  \tTraining Loss: 0.020735991000755353\tValidation Loss: 0.020622306920673492\n",
      "Epoch 163  \tTraining Loss: 0.020570995173129575\tValidation Loss: 0.020459945933140176\n",
      "Epoch 164  \tTraining Loss: 0.020408775330227415\tValidation Loss: 0.020300283694094094\n",
      "Epoch 165  \tTraining Loss: 0.020249262736876765\tValidation Loss: 0.020143215300475574\n",
      "Epoch 166  \tTraining Loss: 0.020092340750604943\tValidation Loss: 0.01998870975660348\n",
      "Epoch 167  \tTraining Loss: 0.019937990588773945\tValidation Loss: 0.01983673151759626\n",
      "Epoch 168  \tTraining Loss: 0.019786170776537052\tValidation Loss: 0.01968725332356704\n",
      "Epoch 169  \tTraining Loss: 0.019636847739744407\tValidation Loss: 0.019540192521032167\n",
      "Epoch 170  \tTraining Loss: 0.01948994766154634\tValidation Loss: 0.019395438880930767\n",
      "Epoch 171  \tTraining Loss: 0.019345360267465965\tValidation Loss: 0.019252980057921247\n",
      "Epoch 172  \tTraining Loss: 0.019203073439659435\tValidation Loss: 0.019112776427237257\n",
      "Epoch 173  \tTraining Loss: 0.019063039927161983\tValidation Loss: 0.0189747209376141\n",
      "Epoch 174  \tTraining Loss: 0.018925158133822537\tValidation Loss: 0.018838795781993423\n",
      "Epoch 175  \tTraining Loss: 0.018789405993443305\tValidation Loss: 0.018704930755231264\n",
      "Epoch 176  \tTraining Loss: 0.01865571275582902\tValidation Loss: 0.018573070724893292\n",
      "Epoch 177  \tTraining Loss: 0.018524032739731005\tValidation Loss: 0.01844316778980015\n",
      "Epoch 178  \tTraining Loss: 0.01839431335672878\tValidation Loss: 0.01831517268572909\n",
      "Epoch 179  \tTraining Loss: 0.018266516026093207\tValidation Loss: 0.018189042506214736\n",
      "Epoch 180  \tTraining Loss: 0.018140595522080808\tValidation Loss: 0.018064824656389474\n",
      "Epoch 181  \tTraining Loss: 0.018016581439614755\tValidation Loss: 0.01794251810033994\n",
      "Epoch 182  \tTraining Loss: 0.017894474399372518\tValidation Loss: 0.017821959822024835\n",
      "Epoch 183  \tTraining Loss: 0.017774123792342545\tValidation Loss: 0.01770312365972726\n",
      "Epoch 184  \tTraining Loss: 0.017655501095429897\tValidation Loss: 0.017585975058521254\n",
      "Epoch 185  \tTraining Loss: 0.017538567897743655\tValidation Loss: 0.017470492857862657\n",
      "Epoch 186  \tTraining Loss: 0.017423295677628528\tValidation Loss: 0.017356640335995575\n",
      "Epoch 187  \tTraining Loss: 0.017309648653062726\tValidation Loss: 0.01724440359842835\n",
      "Epoch 188  \tTraining Loss: 0.017197624307496127\tValidation Loss: 0.017133742710421094\n",
      "Epoch 189  \tTraining Loss: 0.017087182390033834\tValidation Loss: 0.01702458357504452\n",
      "Epoch 190  \tTraining Loss: 0.016978252265165767\tValidation Loss: 0.016916901909778993\n",
      "Epoch 191  \tTraining Loss: 0.016870803093135604\tValidation Loss: 0.016810664817435032\n",
      "Epoch 192  \tTraining Loss: 0.016764809823812187\tValidation Loss: 0.016705857253193502\n",
      "Epoch 193  \tTraining Loss: 0.016660251555285357\tValidation Loss: 0.016602442128842376\n",
      "Epoch 194  \tTraining Loss: 0.016557089430400775\tValidation Loss: 0.01650039367562517\n",
      "Epoch 195  \tTraining Loss: 0.016455299185838528\tValidation Loss: 0.016399695104483893\n",
      "Epoch 196  \tTraining Loss: 0.016354872596238863\tValidation Loss: 0.016300322282934956\n",
      "Epoch 197  \tTraining Loss: 0.01625577434060277\tValidation Loss: 0.016202239780289066\n",
      "Epoch 198  \tTraining Loss: 0.01615796493513943\tValidation Loss: 0.016105426153375572\n",
      "Epoch 199  \tTraining Loss: 0.016061424500693217\tValidation Loss: 0.016009873123493727\n",
      "Epoch 200  \tTraining Loss: 0.015966145324627548\tValidation Loss: 0.01591554901122599\n",
      "Epoch 201  \tTraining Loss: 0.015872093788580604\tValidation Loss: 0.015822439324703712\n",
      "Epoch 202  \tTraining Loss: 0.015779257563014532\tValidation Loss: 0.01573052903183677\n",
      "Epoch 203  \tTraining Loss: 0.015687623746872773\tValidation Loss: 0.015639811876640992\n",
      "Epoch 204  \tTraining Loss: 0.0155971854584612\tValidation Loss: 0.015550274349842597\n",
      "Epoch 205  \tTraining Loss: 0.015507928563172738\tValidation Loss: 0.015461851817380473\n",
      "Epoch 206  \tTraining Loss: 0.01541980272160748\tValidation Loss: 0.015374537521872839\n",
      "Epoch 207  \tTraining Loss: 0.015332777372551482\tValidation Loss: 0.015288304514392018\n",
      "Epoch 208  \tTraining Loss: 0.01524683299308125\tValidation Loss: 0.015203150677869159\n",
      "Epoch 209  \tTraining Loss: 0.015161965974826375\tValidation Loss: 0.01511902361834961\n",
      "Epoch 210  \tTraining Loss: 0.015078130216691216\tValidation Loss: 0.01503590135535793\n",
      "Epoch 211  \tTraining Loss: 0.01499530642119695\tValidation Loss: 0.014953766909959879\n",
      "Epoch 212  \tTraining Loss: 0.014913477345352531\tValidation Loss: 0.014872606371760093\n",
      "Epoch 213  \tTraining Loss: 0.014832624837466649\tValidation Loss: 0.014792410192455458\n",
      "Epoch 214  \tTraining Loss: 0.01475273701976029\tValidation Loss: 0.01471319330317044\n",
      "Epoch 215  \tTraining Loss: 0.014673825215640979\tValidation Loss: 0.01463490575280051\n",
      "Epoch 216  \tTraining Loss: 0.014595840101524813\tValidation Loss: 0.014557524648780495\n",
      "Epoch 217  \tTraining Loss: 0.01451875691357015\tValidation Loss: 0.01448102639927854\n",
      "Epoch 218  \tTraining Loss: 0.014442558796015107\tValidation Loss: 0.014405408686178215\n",
      "Epoch 219  \tTraining Loss: 0.014367237950108622\tValidation Loss: 0.014330648557027707\n",
      "Epoch 220  \tTraining Loss: 0.014292774734686474\tValidation Loss: 0.014256728907711486\n",
      "Epoch 221  \tTraining Loss: 0.014219156220428134\tValidation Loss: 0.01418363940807255\n",
      "Epoch 222  \tTraining Loss: 0.014146370740111358\tValidation Loss: 0.014111367073919842\n",
      "Epoch 223  \tTraining Loss: 0.014074402864963377\tValidation Loss: 0.014039896247265461\n",
      "Epoch 224  \tTraining Loss: 0.014003233478415414\tValidation Loss: 0.013969209621115615\n",
      "Epoch 225  \tTraining Loss: 0.013932851532003798\tValidation Loss: 0.013899303669704039\n",
      "Epoch 226  \tTraining Loss: 0.013863259750428705\tValidation Loss: 0.013830165746866706\n",
      "Epoch 227  \tTraining Loss: 0.01379443880715849\tValidation Loss: 0.01376177480628052\n",
      "Epoch 228  \tTraining Loss: 0.01372636656494717\tValidation Loss: 0.013694114519596226\n",
      "Epoch 229  \tTraining Loss: 0.013659026380433661\tValidation Loss: 0.013627189467416242\n",
      "Epoch 230  \tTraining Loss: 0.013592426759030088\tValidation Loss: 0.01356098483283095\n",
      "Epoch 231  \tTraining Loss: 0.013526551376814409\tValidation Loss: 0.013495478373438638\n",
      "Epoch 232  \tTraining Loss: 0.013461380509418497\tValidation Loss: 0.013430641484831746\n",
      "Epoch 233  \tTraining Loss: 0.013396886128590536\tValidation Loss: 0.013366499352371707\n",
      "Epoch 234  \tTraining Loss: 0.013333085140056862\tValidation Loss: 0.013303091156900456\n",
      "Epoch 235  \tTraining Loss: 0.0132700144700371\tValidation Loss: 0.013240356677879029\n",
      "Epoch 236  \tTraining Loss: 0.013207615999687101\tValidation Loss: 0.013178284605727604\n",
      "Epoch 237  \tTraining Loss: 0.013145877201219652\tValidation Loss: 0.0131168478390352\n",
      "Epoch 238  \tTraining Loss: 0.013084772947133503\tValidation Loss: 0.013056037567215684\n",
      "Epoch 239  \tTraining Loss: 0.013024297021971573\tValidation Loss: 0.012995847688132958\n",
      "Epoch 240  \tTraining Loss: 0.012964443236654497\tValidation Loss: 0.012936272364778817\n",
      "Epoch 241  \tTraining Loss: 0.012905203146126571\tValidation Loss: 0.012877302807998708\n",
      "Epoch 242  \tTraining Loss: 0.012846567412558522\tValidation Loss: 0.012818932969136271\n",
      "Epoch 243  \tTraining Loss: 0.012788534448290872\tValidation Loss: 0.012761152364082646\n",
      "Epoch 244  \tTraining Loss: 0.012731091067280969\tValidation Loss: 0.012703949199671405\n",
      "Epoch 245  \tTraining Loss: 0.012674227165924012\tValidation Loss: 0.012647309417905006\n",
      "Epoch 246  \tTraining Loss: 0.012617929840253282\tValidation Loss: 0.012591227723905798\n",
      "Epoch 247  \tTraining Loss: 0.012562191669596797\tValidation Loss: 0.01253570783628102\n",
      "Epoch 248  \tTraining Loss: 0.012507013973694475\tValidation Loss: 0.012480733750255935\n",
      "Epoch 249  \tTraining Loss: 0.012452381762448707\tValidation Loss: 0.012426296144465457\n",
      "Epoch 250  \tTraining Loss: 0.012398284754580002\tValidation Loss: 0.012372387072212552\n",
      "Epoch 251  \tTraining Loss: 0.012344712709105083\tValidation Loss: 0.012319006083991252\n",
      "Epoch 252  \tTraining Loss: 0.01229166811946768\tValidation Loss: 0.012266142568578586\n",
      "Epoch 253  \tTraining Loss: 0.012239142525748134\tValidation Loss: 0.012213783959859992\n",
      "Epoch 254  \tTraining Loss: 0.012187120062473727\tValidation Loss: 0.012161926431640154\n",
      "Epoch 255  \tTraining Loss: 0.01213559428013585\tValidation Loss: 0.012110556059299593\n",
      "Epoch 256  \tTraining Loss: 0.012084554549404493\tValidation Loss: 0.012059664716123795\n",
      "Epoch 257  \tTraining Loss: 0.012033997920262203\tValidation Loss: 0.012009246033663885\n",
      "Epoch 258  \tTraining Loss: 0.011983913946064365\tValidation Loss: 0.011959299669521821\n",
      "Epoch 259  \tTraining Loss: 0.011934301836296284\tValidation Loss: 0.011909811862345273\n",
      "Epoch 260  \tTraining Loss: 0.011885150303364513\tValidation Loss: 0.011860795561933705\n",
      "Epoch 261  \tTraining Loss: 0.011836467900777218\tValidation Loss: 0.011812230941689414\n",
      "Epoch 262  \tTraining Loss: 0.011788237767597095\tValidation Loss: 0.011764110614824052\n",
      "Epoch 263  \tTraining Loss: 0.011740453672091622\tValidation Loss: 0.011716427476205273\n",
      "Epoch 264  \tTraining Loss: 0.011693109470441734\tValidation Loss: 0.01166917420804104\n",
      "Epoch 265  \tTraining Loss: 0.01164619654603866\tValidation Loss: 0.011622347707829201\n",
      "Epoch 266  \tTraining Loss: 0.01159970889166163\tValidation Loss: 0.011575937955291157\n",
      "Epoch 267  \tTraining Loss: 0.011553639050168296\tValidation Loss: 0.011529939465199686\n",
      "Epoch 268  \tTraining Loss: 0.01150797892937931\tValidation Loss: 0.011484347602456025\n",
      "Epoch 269  \tTraining Loss: 0.01146272430251948\tValidation Loss: 0.011439159293034202\n",
      "Epoch 270  \tTraining Loss: 0.011417872290436762\tValidation Loss: 0.011394382759911016\n",
      "Epoch 271  \tTraining Loss: 0.011373429495855744\tValidation Loss: 0.01135000444608856\n",
      "Epoch 272  \tTraining Loss: 0.011329387689914256\tValidation Loss: 0.011306008140625538\n",
      "Epoch 273  \tTraining Loss: 0.011285730055841034\tValidation Loss: 0.011262394697709548\n",
      "Epoch 274  \tTraining Loss: 0.011242455310338397\tValidation Loss: 0.0112191717463135\n",
      "Epoch 275  \tTraining Loss: 0.011199570927209522\tValidation Loss: 0.011176327447750736\n",
      "Epoch 276  \tTraining Loss: 0.011157066458489271\tValidation Loss: 0.011133851643336677\n",
      "Epoch 277  \tTraining Loss: 0.011114933858955917\tValidation Loss: 0.011091739119468957\n",
      "Epoch 278  \tTraining Loss: 0.011073161616354136\tValidation Loss: 0.01104998023725401\n",
      "Epoch 279  \tTraining Loss: 0.011031742551369045\tValidation Loss: 0.011008576397347926\n",
      "Epoch 280  \tTraining Loss: 0.010990682908579083\tValidation Loss: 0.010967550121435295\n",
      "Epoch 281  \tTraining Loss: 0.010950005762661693\tValidation Loss: 0.010926865133629516\n",
      "Epoch 282  \tTraining Loss: 0.010909668940715437\tValidation Loss: 0.010886515108291549\n",
      "Epoch 283  \tTraining Loss: 0.010869667487564407\tValidation Loss: 0.01084650015466822\n",
      "Epoch 284  \tTraining Loss: 0.010830001064753268\tValidation Loss: 0.010806820100076657\n",
      "Epoch 285  \tTraining Loss: 0.010790667936374823\tValidation Loss: 0.010767464390409136\n",
      "Epoch 286  \tTraining Loss: 0.01075165770288327\tValidation Loss: 0.010728431447565374\n",
      "Epoch 287  \tTraining Loss: 0.010712969773559473\tValidation Loss: 0.010689720567608776\n",
      "Epoch 288  \tTraining Loss: 0.010674603580822485\tValidation Loss: 0.010651328315618136\n",
      "Epoch 289  \tTraining Loss: 0.010636556169380595\tValidation Loss: 0.010613280115232278\n",
      "Epoch 290  \tTraining Loss: 0.010598857382716362\tValidation Loss: 0.010575566954233041\n",
      "Epoch 291  \tTraining Loss: 0.010561487636686578\tValidation Loss: 0.010538155344575785\n",
      "Epoch 292  \tTraining Loss: 0.010524419189325125\tValidation Loss: 0.01050103932687172\n",
      "Epoch 293  \tTraining Loss: 0.010487647788736999\tValidation Loss: 0.010464217777263828\n",
      "Epoch 294  \tTraining Loss: 0.010451170781944269\tValidation Loss: 0.010427701953104563\n",
      "Epoch 295  \tTraining Loss: 0.010414996499129602\tValidation Loss: 0.010391470601924475\n",
      "Epoch 296  \tTraining Loss: 0.010379103384061974\tValidation Loss: 0.010355522013163017\n",
      "Epoch 297  \tTraining Loss: 0.010343492967605747\tValidation Loss: 0.010319851726459639\n",
      "Epoch 298  \tTraining Loss: 0.01030816065298337\tValidation Loss: 0.01028446074162276\n",
      "Epoch 299  \tTraining Loss: 0.010273106244291352\tValidation Loss: 0.010249357398094964\n",
      "Epoch 300  \tTraining Loss: 0.010238338749157656\tValidation Loss: 0.010214525988549099\n"
     ]
    }
   ],
   "source": [
    "from nn.nn import NeuralNetwork\n",
    "\n",
    "nn_arch = [\n",
    "    {'input_dim': 68, 'output_dim': 128, 'activation': 'relu'},\n",
    "    {'input_dim': 128, 'output_dim': 64, 'activation': 'relu'},\n",
    "    {'input_dim': 64, 'output_dim': 1, 'activation': 'sigmoid'}\n",
    "]\n",
    "\n",
    "\n",
    "classifier = NeuralNetwork(nn_arch=nn_arch, lr=5.0, seed=42, batch_size=100, epochs=300, loss_function='binary_cross_entropy')\n",
    "\n",
    "\n",
    "train_loss, val_loss = classifier.fit(X_train, y_train, X_val, y_val)"
   ]
  },
  {
   "cell_type": "code",
   "execution_count": 71,
   "metadata": {},
   "outputs": [
    {
     "data": {
      "image/png": "[encoded data removed]",
      "text/plain": [
       "<Figure size 640x480 with 1 Axes>"
      ]
     },
     "metadata": {},
     "output_type": "display_data"
    }
   ],
   "source": [
    "from matplotlib import pyplot as plt\n",
    "\n",
    "plt.plot(train_loss, label='train loss')\n",
    "plt.plot(val_loss, label='val loss')\n",
    "plt.xlabel('epoch')\n",
    "plt.ylabel('loss')\n",
    "plt.legend()\n",
    "plt.show()"
   ]
  },
  {
   "cell_type": "code",
   "execution_count": 72,
   "metadata": {},
   "outputs": [
    {
     "name": "stdout",
     "output_type": "stream",
     "text": [
      "Accuracy is: 0.9983\n"
     ]
    }
   ],
   "source": [
    "from sklearn.metrics import accuracy_score\n",
    "\n",
    "y_val_prob = classifier.predict(X_val)\n",
    "y_pred_label = (y_val_prob > 0.5).astype(int).T\n",
    "\n",
    "y_pred_label = y_pred_label.squeeze()\n",
    "\n",
    "accuracy = accuracy_score(y_val, y_pred_label)\n",
    "\n",
    "print('Accuracy is:', round( accuracy ,4))\n"
   ]
  },
  {
   "cell_type": "code",
   "execution_count": null,
   "metadata": {},
   "outputs": [],
   "source": [
    "'''\n",
    "*Explain why you chose the sampling scheme you did:*\n",
    "I chose to upsample my data. Downsampling and upsampling each have pros and cons\n",
    "The pros of using upsampling, which is what I chose, is that we get to use all of the data we have on deck.\n",
    "The downside is that your upsampled labels will be over-represented... this is ok as long as your upsampled class\n",
    "is well representative of your groud truth distribution. \n",
    "\n",
    "\n",
    "\n",
    "*Explain your choice of loss function and hyperparameters:*\n",
    "I wanted to start with, which what I ended up going with, a simple NN. Input, two middle, and output.\n",
    "Maybe I could've started with a simpler one... buth this seems to work well.\n",
    "I played around with learning rate, and foudn 5 to be ok. I bet we can up it more, but 5 did the job.\n",
    "I honestly don't have much intution on batch_size. I wanted for things not to run too slow, so I used 100.\n",
    "I found loss stabilized at ~300, thus I stopped it there.\n",
    "'''"
   ]
  }
 ],
 "metadata": {
  "kernelspec": {
   "display_name": "algo",
   "language": "python",
   "name": "python3"
  },
  "language_info": {
   "codemirror_mode": {
    "name": "ipython",
    "version": 3
   },
   "file_extension": ".py",
   "mimetype": "text/x-python",
   "name": "python",
   "nbconvert_exporter": "python",
   "pygments_lexer": "ipython3",
   "version": "3.12.0"
  }
 },
 "nbformat": 4,
 "nbformat_minor": 2
}
